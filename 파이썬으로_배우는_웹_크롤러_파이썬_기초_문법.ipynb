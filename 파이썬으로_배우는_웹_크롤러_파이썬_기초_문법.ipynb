{
  "nbformat": 4,
  "nbformat_minor": 0,
  "metadata": {
    "colab": {
      "name": "파이썬으로 배우는 웹 크롤러 파이썬 기초 문법",
      "provenance": [],
      "collapsed_sections": [],
      "authorship_tag": "ABX9TyOfL7vOZ0C4XVvoKjfmc2u0",
      "include_colab_link": true
    },
    "kernelspec": {
      "name": "python3",
      "display_name": "Python 3"
    },
    "language_info": {
      "name": "python"
    }
  },
  "cells": [
    {
      "cell_type": "markdown",
      "metadata": {
        "id": "view-in-github",
        "colab_type": "text"
      },
      "source": [
        "<a href=\"https://colab.research.google.com/github/Justion1234/-Python-basic-syntax/blob/main/%ED%8C%8C%EC%9D%B4%EC%8D%AC%EC%9C%BC%EB%A1%9C_%EB%B0%B0%EC%9A%B0%EB%8A%94_%EC%9B%B9_%ED%81%AC%EB%A1%A4%EB%9F%AC_%ED%8C%8C%EC%9D%B4%EC%8D%AC_%EA%B8%B0%EC%B4%88_%EB%AC%B8%EB%B2%95.ipynb\" target=\"_parent\"><img src=\"https://colab.research.google.com/assets/colab-badge.svg\" alt=\"Open In Colab\"/></a>"
      ]
    },
    {
      "cell_type": "markdown",
      "metadata": {
        "id": "-VOB1fm5dsN5"
      },
      "source": [
        "파이썬으로 데이터 출력하기"
      ]
    },
    {
      "cell_type": "code",
      "metadata": {
        "id": "TNVFaW8EdlSI",
        "colab": {
          "base_uri": "https://localhost:8080/"
        },
        "outputId": "9b223b79-01d2-493b-d259-97fa4170a70e"
      },
      "source": [
        "print('고등학생-김준성')"
      ],
      "execution_count": null,
      "outputs": [
        {
          "output_type": "stream",
          "name": "stdout",
          "text": [
            "고등학생-김준성\n"
          ]
        }
      ]
    },
    {
      "cell_type": "markdown",
      "metadata": {
        "id": "Ry3CK4Lfgk4U"
      },
      "source": [
        "# 변수"
      ]
    },
    {
      "cell_type": "markdown",
      "metadata": {
        "id": "Oq-wOpxLgwwu"
      },
      "source": [
        "프로그래밍에는 **변수**와 **상수**라는 개념이 있습니다. 변수는 데이터가 저장되는 공간, 상수는 변하지 않는 값을 의미합니다. 파이썬에서 변수에 저장되는 데이터의 타입은 다양하게 존재합니다."
      ]
    },
    {
      "cell_type": "markdown",
      "metadata": {
        "id": "Oja5yv-AhPxu"
      },
      "source": [
        "변수를 사용하는 방법"
      ]
    },
    {
      "cell_type": "code",
      "metadata": {
        "id": "vWHUDI29gk_7",
        "colab": {
          "base_uri": "https://localhost:8080/"
        },
        "outputId": "7df2890b-4e89-4d28-858e-d7f4bf6b1fc4"
      },
      "source": [
        "var = 10\n",
        "print(var)\n",
        "print(var)\n",
        "print(var)\n",
        "print(10)"
      ],
      "execution_count": null,
      "outputs": [
        {
          "output_type": "stream",
          "name": "stdout",
          "text": [
            "10\n",
            "10\n",
            "10\n",
            "10\n"
          ]
        }
      ]
    },
    {
      "cell_type": "markdown",
      "metadata": {
        "id": "chr6ppdNhOxl"
      },
      "source": [
        "변수로 변수 값 바꾸기"
      ]
    },
    {
      "cell_type": "code",
      "metadata": {
        "id": "xFK0KpIFhFdl",
        "colab": {
          "base_uri": "https://localhost:8080/"
        },
        "outputId": "3d942c24-88c3-430b-eca6-e6782d0d78ca"
      },
      "source": [
        "var1 = 10\n",
        "var2 = 20\n",
        "print(var1)\n",
        "var1 = var2\n",
        "print(var1)"
      ],
      "execution_count": null,
      "outputs": [
        {
          "output_type": "stream",
          "name": "stdout",
          "text": [
            "10\n",
            "20\n"
          ]
        }
      ]
    },
    {
      "cell_type": "markdown",
      "metadata": {
        "id": "nLwyKhOPhXE-"
      },
      "source": [
        "변수 생성 없이 변수 사용할 때"
      ]
    },
    {
      "cell_type": "code",
      "metadata": {
        "id": "573HTEpjhXNe",
        "colab": {
          "base_uri": "https://localhost:8080/",
          "height": 176
        },
        "outputId": "88d06916-122d-4038-d77b-7711654763ab"
      },
      "source": [
        "print(novar)"
      ],
      "execution_count": null,
      "outputs": [
        {
          "output_type": "error",
          "ename": "NameError",
          "evalue": "ignored",
          "traceback": [
            "\u001b[0;31m---------------------------------------------------------------------------\u001b[0m",
            "\u001b[0;31mNameError\u001b[0m                                 Traceback (most recent call last)",
            "\u001b[0;32m<ipython-input-20-6e841417125b>\u001b[0m in \u001b[0;36m<module>\u001b[0;34m()\u001b[0m\n\u001b[0;32m----> 1\u001b[0;31m \u001b[0mprint\u001b[0m\u001b[0;34m(\u001b[0m\u001b[0mnovar\u001b[0m\u001b[0;34m)\u001b[0m\u001b[0;34m\u001b[0m\u001b[0;34m\u001b[0m\u001b[0m\n\u001b[0m",
            "\u001b[0;31mNameError\u001b[0m: name 'novar' is not defined"
          ]
        }
      ]
    },
    {
      "cell_type": "markdown",
      "metadata": {
        "id": "ROyUu_qKZpZl"
      },
      "source": [
        "변수 생성 없이 변수를 사용할 때 오류남"
      ]
    },
    {
      "cell_type": "markdown",
      "metadata": {
        "id": "dDeWzvBQhXWm"
      },
      "source": [
        "NameError 해결"
      ]
    },
    {
      "cell_type": "code",
      "metadata": {
        "id": "EM9Y8YBwhXb_",
        "colab": {
          "base_uri": "https://localhost:8080/"
        },
        "outputId": "0765a46d-9355-4ecc-f2aa-174d0f12d5c5"
      },
      "source": [
        "novar = 10\n",
        "print(novar)"
      ],
      "execution_count": null,
      "outputs": [
        {
          "output_type": "stream",
          "name": "stdout",
          "text": [
            "10\n"
          ]
        }
      ]
    },
    {
      "cell_type": "markdown",
      "metadata": {
        "id": "-VY_x78JZ2Tn"
      },
      "source": [
        "위에서 오류난 NameError 해결"
      ]
    },
    {
      "cell_type": "markdown",
      "metadata": {
        "id": "zXV9f4oEAuD9"
      },
      "source": [
        "# 데이터 타입"
      ]
    },
    {
      "cell_type": "markdown",
      "metadata": {
        "id": "GdHOG063A1B9"
      },
      "source": [
        "## 숫자형"
      ]
    },
    {
      "cell_type": "markdown",
      "metadata": {
        "id": "1HES0qEJA68U"
      },
      "source": [
        "다양한 숫자 출력"
      ]
    },
    {
      "cell_type": "code",
      "metadata": {
        "id": "dxCYwE0yA1ij",
        "colab": {
          "base_uri": "https://localhost:8080/"
        },
        "outputId": "b70184dc-087e-40f9-fe3c-1dd87131f79d"
      },
      "source": [
        "print(25)\n",
        "print(25.0)\n",
        "print(25.1)\n",
        "print(-25)\n",
        "print(-25.0)"
      ],
      "execution_count": null,
      "outputs": [
        {
          "output_type": "stream",
          "name": "stdout",
          "text": [
            "25\n",
            "25.0\n",
            "25.1\n",
            "-25\n",
            "-25.0\n"
          ]
        }
      ]
    },
    {
      "cell_type": "markdown",
      "metadata": {
        "id": "BCsgD3aUB5PG"
      },
      "source": [
        "변수 사용하여 데이터 출력"
      ]
    },
    {
      "cell_type": "code",
      "metadata": {
        "id": "ImZFB-rwBqg-",
        "colab": {
          "base_uri": "https://localhost:8080/"
        },
        "outputId": "547562bc-d23b-4352-e93b-dce99f38a3fb"
      },
      "source": [
        "var1 = 25\n",
        "var2 = 25.0\n",
        "var3 = 25.1\n",
        "var4 = -25\n",
        "var5 = -25.0\n",
        "print(var1)\n",
        "print(var2)\n",
        "print(var3)\n",
        "print(var4)\n",
        "print(var5)"
      ],
      "execution_count": null,
      "outputs": [
        {
          "output_type": "stream",
          "name": "stdout",
          "text": [
            "25\n",
            "25.0\n",
            "25.1\n",
            "-25\n",
            "-25.0\n"
          ]
        }
      ]
    },
    {
      "cell_type": "markdown",
      "metadata": {
        "id": "SEHSQ-dkCA-9"
      },
      "source": [
        "하나의 변수만 가지고 데이터를 바꿔가면서 출력"
      ]
    },
    {
      "cell_type": "code",
      "metadata": {
        "id": "ZWfCFd_qCBKl",
        "colab": {
          "base_uri": "https://localhost:8080/"
        },
        "outputId": "0587ff20-086a-453b-98b5-ba1d3e5e2138"
      },
      "source": [
        "var1 = 25\n",
        "print(var1)\n",
        "var1 = 25.0\n",
        "print(var1)\n",
        "var1 = 25.1\n",
        "print(var1)\n",
        "var1 = -25\n",
        "print(var1)\n",
        "var1 = -25.0\n",
        "print(var1)"
      ],
      "execution_count": null,
      "outputs": [
        {
          "output_type": "stream",
          "name": "stdout",
          "text": [
            "25\n",
            "25.0\n",
            "25.1\n",
            "-25\n",
            "-25.0\n"
          ]
        }
      ]
    },
    {
      "cell_type": "markdown",
      "metadata": {
        "id": "XvaeuJ2_CaJc"
      },
      "source": [
        "사칙연산 코드"
      ]
    },
    {
      "cell_type": "code",
      "metadata": {
        "id": "mlK4fA2gCaVF",
        "colab": {
          "base_uri": "https://localhost:8080/"
        },
        "outputId": "4d26c9f9-cb23-4278-bbd0-ec4a6bde4198"
      },
      "source": [
        "var1 = 10\n",
        "var2 = 25\n",
        "print(var1+var2)  #덧셈 연산\n",
        "print(var1-var2)  #뺄셈 연산\n",
        "print(var1*var2)  #곱셈 연산\n",
        "print(var2/var1)  #나눗셈 연산\n",
        "print(var2//var1) #나눗셈 연산\n",
        "print(var2%var1)  #나눗셈 연산 - 나머지"
      ],
      "execution_count": null,
      "outputs": [
        {
          "output_type": "stream",
          "name": "stdout",
          "text": [
            "35\n",
            "-15\n",
            "250\n",
            "2.5\n",
            "2\n",
            "5\n"
          ]
        }
      ]
    },
    {
      "cell_type": "markdown",
      "metadata": {
        "id": "HMoZzb18DAVW"
      },
      "source": [
        "## 문자열"
      ]
    },
    {
      "cell_type": "markdown",
      "metadata": {
        "id": "j2pEGUQ3DCp0"
      },
      "source": [
        "문자열 만드는 방법"
      ]
    },
    {
      "cell_type": "code",
      "metadata": {
        "id": "J91JubsYDE7j",
        "colab": {
          "base_uri": "https://localhost:8080/"
        },
        "outputId": "a4c03559-c3d5-44b5-ad56-4ba71897ef58"
      },
      "source": [
        "var1 = '김준성'\n",
        "var2 = '18'\n",
        "var3 = '고등학생'\n",
        "var4 = '여의도'\n",
        "print(var1)\n",
        "print(var2)\n",
        "print(var3)\n",
        "print(var4)"
      ],
      "execution_count": null,
      "outputs": [
        {
          "output_type": "stream",
          "name": "stdout",
          "text": [
            "김준성\n",
            "18\n",
            "고등학생\n",
            "여의도\n"
          ]
        }
      ]
    },
    {
      "cell_type": "markdown",
      "metadata": {
        "id": "sTj3pM2DDRy1"
      },
      "source": [
        "문자열 연산하기"
      ]
    },
    {
      "cell_type": "code",
      "metadata": {
        "id": "3an_kiQNDTKg",
        "colab": {
          "base_uri": "https://localhost:8080/"
        },
        "outputId": "490d6c04-f965-4100-8c7e-bb6a032cc71f"
      },
      "source": [
        " var1 = 'hello'\n",
        " var2 = 'world'\n",
        " var3 = var1 + ' ' + var2\n",
        "print(var1)\n",
        "print(var2)\n",
        "print(var3)"
      ],
      "execution_count": null,
      "outputs": [
        {
          "output_type": "stream",
          "name": "stdout",
          "text": [
            "hello\n",
            "world\n",
            "hello world\n"
          ]
        }
      ]
    },
    {
      "cell_type": "markdown",
      "metadata": {
        "id": "YKn2CoK2En8O"
      },
      "source": [
        "### 문자열 치환하기"
      ]
    },
    {
      "cell_type": "markdown",
      "metadata": {
        "id": "wMfj7jgsEqvy"
      },
      "source": [
        "replace 사용 방법"
      ]
    },
    {
      "cell_type": "code",
      "metadata": {
        "id": "4XA6OhNZEvgL",
        "colab": {
          "base_uri": "https://localhost:8080/"
        },
        "outputId": "4b180a82-ecf6-4aeb-dd31-f0e8ff690d0e"
      },
      "source": [
        "var = 'hello world!'\n",
        "print(var)\n",
        "var = var.replace('!', '?')\n",
        "print(var)"
      ],
      "execution_count": null,
      "outputs": [
        {
          "output_type": "stream",
          "name": "stdout",
          "text": [
            "hello world!\n",
            "hello world?\n"
          ]
        }
      ]
    },
    {
      "cell_type": "markdown",
      "metadata": {
        "id": "7OD2fytjE1Oq"
      },
      "source": [
        "replace를 이용하여 특정 문자 없애기"
      ]
    },
    {
      "cell_type": "code",
      "metadata": {
        "id": "QxNFdutIE3sa",
        "colab": {
          "base_uri": "https://localhost:8080/"
        },
        "outputId": "441da199-ddf8-4c17-a547-7d2aca58cdb4"
      },
      "source": [
        "var = 'hello world?'\n",
        "var = var.replace('?', '')\n",
        "print(var)"
      ],
      "execution_count": null,
      "outputs": [
        {
          "output_type": "stream",
          "name": "stdout",
          "text": [
            "hello world\n"
          ]
        }
      ]
    },
    {
      "cell_type": "markdown",
      "metadata": {
        "id": "rJ8Z47TgFPYB"
      },
      "source": [
        "가격 replace 처리하기-1"
      ]
    },
    {
      "cell_type": "code",
      "metadata": {
        "id": "J8yitPwtFPhx",
        "colab": {
          "base_uri": "https://localhost:8080/"
        },
        "outputId": "bfb728e6-c705-4a57-ed64-27fde3e96933"
      },
      "source": [
        "var = '19,000원'\n",
        "var = var.replace(',', '')\n",
        "print(var)\n",
        "var = var.replace('원', '')\n",
        "print(var)"
      ],
      "execution_count": null,
      "outputs": [
        {
          "output_type": "stream",
          "name": "stdout",
          "text": [
            "19000원\n",
            "19000\n"
          ]
        }
      ]
    },
    {
      "cell_type": "markdown",
      "metadata": {
        "id": "jmojVcqNFbDI"
      },
      "source": [
        "가격 replace 처리하기-2"
      ]
    },
    {
      "cell_type": "code",
      "metadata": {
        "id": "mhSvadnWFeUp",
        "colab": {
          "base_uri": "https://localhost:8080/"
        },
        "outputId": "3e48c933-eed4-4f3b-a40d-0aaa62ec6d5a"
      },
      "source": [
        "var = '19,000원'\n",
        "var = var.replace(',', '').replace('원', '')\n",
        "print(var)"
      ],
      "execution_count": null,
      "outputs": [
        {
          "output_type": "stream",
          "name": "stdout",
          "text": [
            "19000\n"
          ]
        }
      ]
    },
    {
      "cell_type": "markdown",
      "metadata": {
        "id": "wBdjXtx2FtdP"
      },
      "source": [
        "###문자열 찾기"
      ]
    },
    {
      "cell_type": "markdown",
      "metadata": {
        "id": "o-ByAJ5hFx7H"
      },
      "source": [
        "find 이용하여 문자열 찾기-1"
      ]
    },
    {
      "cell_type": "code",
      "metadata": {
        "id": "HCfrbkoRFwmf",
        "colab": {
          "base_uri": "https://localhost:8080/"
        },
        "outputId": "4922b995-7e85-4551-f887-87720e24c3e3"
      },
      "source": [
        "var1 = 'hello world'\n",
        "finded1 = var.find('a') #찾는 값이 없을 경우 -1변환\n",
        "finded2 = var1.find('world')\n",
        "print(finded1)\n",
        "print(finded2)"
      ],
      "execution_count": null,
      "outputs": [
        {
          "output_type": "stream",
          "name": "stdout",
          "text": [
            "-1\n",
            "6\n"
          ]
        }
      ]
    },
    {
      "cell_type": "markdown",
      "metadata": {
        "id": "WIHtlf_FGGPu"
      },
      "source": [
        "find 이용하여 문자열 찾기-2"
      ]
    },
    {
      "cell_type": "code",
      "metadata": {
        "id": "rmCCqs03GHNi",
        "colab": {
          "base_uri": "https://localhost:8080/"
        },
        "outputId": "f461a2fd-3241-4a39-aa7d-40a3c0ce2e86"
      },
      "source": [
        "var1 = 'hello world'\n",
        "print(var1.find('world'))\n",
        "print(var1.find('World'))"
      ],
      "execution_count": null,
      "outputs": [
        {
          "output_type": "stream",
          "name": "stdout",
          "text": [
            "6\n",
            "-1\n"
          ]
        }
      ]
    },
    {
      "cell_type": "markdown",
      "metadata": {
        "id": "s6bDK12yGPqO"
      },
      "source": [
        "###문자열 인덱싱, 슬라이싱하기"
      ]
    },
    {
      "cell_type": "markdown",
      "metadata": {
        "id": "KvfQryd3GT52"
      },
      "source": [
        "인덱싱과 슬라이싱"
      ]
    },
    {
      "cell_type": "code",
      "metadata": {
        "id": "Ybs3xtwvGSqF",
        "colab": {
          "base_uri": "https://localhost:8080/"
        },
        "outputId": "89411eb7-a23f-4ada-ceb3-7a41431c3d25"
      },
      "source": [
        "var = 'hello world'\n",
        "print(var[0])\n",
        "print(var[1])\n",
        "print(var[0:4])"
      ],
      "execution_count": null,
      "outputs": [
        {
          "output_type": "stream",
          "name": "stdout",
          "text": [
            "h\n",
            "e\n",
            "hell\n"
          ]
        }
      ]
    },
    {
      "cell_type": "markdown",
      "metadata": {
        "id": "-08yDIHDGl80"
      },
      "source": [
        "슬라이싱 고급 스킬"
      ]
    },
    {
      "cell_type": "code",
      "metadata": {
        "id": "P5uqtmUDGnkd",
        "colab": {
          "base_uri": "https://localhost:8080/"
        },
        "outputId": "40e9102c-0541-493b-d670-e531e7c5f00a"
      },
      "source": [
        "var = 'hello world'\n",
        "print(var[:])\n",
        "print(var[:2])\n",
        "print(var[2:])"
      ],
      "execution_count": null,
      "outputs": [
        {
          "output_type": "stream",
          "name": "stdout",
          "text": [
            "hello world\n",
            "he\n",
            "llo world\n"
          ]
        }
      ]
    },
    {
      "cell_type": "markdown",
      "metadata": {
        "id": "u7Pw9Bq2GudR"
      },
      "source": [
        "인덱싱, 슬라이싱 고급 스킬"
      ]
    },
    {
      "cell_type": "code",
      "metadata": {
        "id": "Fux3utxYGwHB",
        "colab": {
          "base_uri": "https://localhost:8080/"
        },
        "outputId": "9d0cb5ea-08a1-4556-bca1-f4d1c98826f9"
      },
      "source": [
        "var = 'hello world'\n",
        "print(var[-1])\n",
        "print(var[-2])\n",
        "print(var[-3: -2])"
      ],
      "execution_count": null,
      "outputs": [
        {
          "output_type": "stream",
          "name": "stdout",
          "text": [
            "d\n",
            "l\n",
            "r\n"
          ]
        }
      ]
    },
    {
      "cell_type": "markdown",
      "metadata": {
        "id": "m_4-HTIeG4Zs"
      },
      "source": [
        "인덱싱을 하거나 슬라이싱을 할 때 범위를 벗어난다면?"
      ]
    },
    {
      "cell_type": "code",
      "metadata": {
        "id": "ckrEVWaRG4gt",
        "colab": {
          "base_uri": "https://localhost:8080/",
          "height": 195
        },
        "outputId": "86be1175-f263-40bb-e40e-0f71f6478b37"
      },
      "source": [
        "var = 'hello world'\n",
        "print(var[20])"
      ],
      "execution_count": null,
      "outputs": [
        {
          "output_type": "error",
          "ename": "IndexError",
          "evalue": "ignored",
          "traceback": [
            "\u001b[0;31m---------------------------------------------------------------------------\u001b[0m",
            "\u001b[0;31mIndexError\u001b[0m                                Traceback (most recent call last)",
            "\u001b[0;32m<ipython-input-16-fc4fa437a30b>\u001b[0m in \u001b[0;36m<module>\u001b[0;34m()\u001b[0m\n\u001b[1;32m      1\u001b[0m \u001b[0mvar\u001b[0m \u001b[0;34m=\u001b[0m \u001b[0;34m'hello world'\u001b[0m\u001b[0;34m\u001b[0m\u001b[0;34m\u001b[0m\u001b[0m\n\u001b[0;32m----> 2\u001b[0;31m \u001b[0mprint\u001b[0m\u001b[0;34m(\u001b[0m\u001b[0mvar\u001b[0m\u001b[0;34m[\u001b[0m\u001b[0;36m20\u001b[0m\u001b[0;34m]\u001b[0m\u001b[0;34m)\u001b[0m\u001b[0;34m\u001b[0m\u001b[0;34m\u001b[0m\u001b[0m\n\u001b[0m",
            "\u001b[0;31mIndexError\u001b[0m: string index out of range"
          ]
        }
      ]
    },
    {
      "cell_type": "markdown",
      "metadata": {
        "id": "m9aPFzBAHBxs"
      },
      "source": [
        "split 이용하여 문자열 나누기"
      ]
    },
    {
      "cell_type": "code",
      "metadata": {
        "id": "e3Kl-mnHHEuT",
        "colab": {
          "base_uri": "https://localhost:8080/"
        },
        "outputId": "fe616961-76ea-4bc5-b548-6245d88e24b0"
      },
      "source": [
        "var = 'hello world !@'\n",
        "print(var.split())"
      ],
      "execution_count": null,
      "outputs": [
        {
          "output_type": "stream",
          "name": "stdout",
          "text": [
            "['hello', 'world', '!@']\n"
          ]
        }
      ]
    },
    {
      "cell_type": "markdown",
      "metadata": {
        "id": "U6sShVeLHKP6"
      },
      "source": [
        "split 특정 문자열 기준으로 나누기"
      ]
    },
    {
      "cell_type": "code",
      "metadata": {
        "id": "FTwZ_H25HMpt",
        "colab": {
          "base_uri": "https://localhost:8080/"
        },
        "outputId": "9b33e013-2d4d-43dd-986b-db67fdd02a39"
      },
      "source": [
        "var = 'hello world !@'\n",
        "print(var.split('l'))"
      ],
      "execution_count": null,
      "outputs": [
        {
          "output_type": "stream",
          "name": "stdout",
          "text": [
            "['he', '', 'o wor', 'd !@']\n"
          ]
        }
      ]
    },
    {
      "cell_type": "markdown",
      "metadata": {
        "id": "0WLp-P6fHMGa"
      },
      "source": [
        "###문자열의 다양한 함수"
      ]
    },
    {
      "cell_type": "markdown",
      "metadata": {
        "id": "T2F7uBGGH88C"
      },
      "source": [
        "문자열 대소문자 변환"
      ]
    },
    {
      "cell_type": "code",
      "metadata": {
        "id": "YxIQoaw_HWeZ",
        "colab": {
          "base_uri": "https://localhost:8080/"
        },
        "outputId": "2dccad71-ab4c-4483-957c-614dde301f5d"
      },
      "source": [
        "var1 = 'hello world'\n",
        "var2 = 'HELLO WORLD'\n",
        "print(var1.upper())\n",
        "print(var2.lower())"
      ],
      "execution_count": null,
      "outputs": [
        {
          "output_type": "stream",
          "name": "stdout",
          "text": [
            "HELLO WORLD\n",
            "hello world\n"
          ]
        }
      ]
    },
    {
      "cell_type": "markdown",
      "metadata": {
        "id": "z5HchpKMHeWZ"
      },
      "source": [
        "문자열 개수"
      ]
    },
    {
      "cell_type": "code",
      "metadata": {
        "colab": {
          "base_uri": "https://localhost:8080/"
        },
        "id": "FecTK8fdN4oV",
        "outputId": "41f8ed4c-d86a-47d8-cbed-f6d1ee870994"
      },
      "source": [
        "var = 'hello world'\n",
        "print(len(var))"
      ],
      "execution_count": null,
      "outputs": [
        {
          "output_type": "stream",
          "name": "stdout",
          "text": [
            "11\n"
          ]
        }
      ]
    },
    {
      "cell_type": "markdown",
      "metadata": {
        "id": "C3MnRfBoOUcF"
      },
      "source": [
        "공백 제거"
      ]
    },
    {
      "cell_type": "code",
      "metadata": {
        "colab": {
          "base_uri": "https://localhost:8080/"
        },
        "id": "YmyE8CKrOVlL",
        "outputId": "65b0460c-7701-4b9f-adcc-8d33453c3d2e"
      },
      "source": [
        "var = ' hello world '\n",
        "print(var.rstrip())\n",
        "print(var.lstrip())\n",
        "print(var.strip())"
      ],
      "execution_count": null,
      "outputs": [
        {
          "output_type": "stream",
          "name": "stdout",
          "text": [
            " hello world\n",
            "hello world \n",
            "hello world\n"
          ]
        }
      ]
    },
    {
      "cell_type": "markdown",
      "metadata": {
        "id": "ERlx7Ej_OW84"
      },
      "source": [
        "문자열 포멧팅"
      ]
    },
    {
      "cell_type": "code",
      "metadata": {
        "colab": {
          "base_uri": "https://localhost:8080/"
        },
        "id": "0OKejVzrOX__",
        "outputId": "0563abab-eb91-47dc-c9c0-f808cee2a97a"
      },
      "source": [
        "var0 = 'I am' + ' 김준성'\n",
        "print(var0)\n",
        "var1 = 'I am {name}'.format(name='김준성')\n",
        "print(var1)\n",
        "var2 = 'I am {0}'.format('김준성')\n",
        "print(var2)\n",
        "var3 = 'I am {0} I am {name}'.format('김준성', name='고등학생')\n",
        "print(var3)"
      ],
      "execution_count": null,
      "outputs": [
        {
          "output_type": "stream",
          "name": "stdout",
          "text": [
            "I am 김준성\n",
            "I am 김준성\n",
            "I am 김준성\n",
            "I am 김준성 I am 고등학생\n"
          ]
        }
      ]
    },
    {
      "cell_type": "markdown",
      "metadata": {
        "id": "3j31KaOcO4kC"
      },
      "source": [
        "문자열 + 연산의 단점"
      ]
    },
    {
      "cell_type": "code",
      "metadata": {
        "colab": {
          "base_uri": "https://localhost:8080/",
          "height": 195
        },
        "id": "dT5Ph34LO6Jl",
        "outputId": "aae3f6ed-e174-4fa0-9edf-d12cf0c142d4"
      },
      "source": [
        "var0 = 'I am age ' + 25\n",
        "print(var0)"
      ],
      "execution_count": null,
      "outputs": [
        {
          "output_type": "error",
          "ename": "TypeError",
          "evalue": "ignored",
          "traceback": [
            "\u001b[0;31m---------------------------------------------------------------------------\u001b[0m",
            "\u001b[0;31mTypeError\u001b[0m                                 Traceback (most recent call last)",
            "\u001b[0;32m<ipython-input-30-fc2c5a4e5436>\u001b[0m in \u001b[0;36m<module>\u001b[0;34m()\u001b[0m\n\u001b[0;32m----> 1\u001b[0;31m \u001b[0mvar0\u001b[0m \u001b[0;34m=\u001b[0m \u001b[0;34m'I am age '\u001b[0m \u001b[0;34m+\u001b[0m \u001b[0;36m25\u001b[0m\u001b[0;34m\u001b[0m\u001b[0;34m\u001b[0m\u001b[0m\n\u001b[0m\u001b[1;32m      2\u001b[0m \u001b[0mprint\u001b[0m\u001b[0;34m(\u001b[0m\u001b[0mvar0\u001b[0m\u001b[0;34m)\u001b[0m\u001b[0;34m\u001b[0m\u001b[0;34m\u001b[0m\u001b[0m\n",
            "\u001b[0;31mTypeError\u001b[0m: can only concatenate str (not \"int\") to str"
          ]
        }
      ]
    },
    {
      "cell_type": "markdown",
      "metadata": {
        "id": "vXpPab2eO-ci"
      },
      "source": [
        "TypeError 해결 방법"
      ]
    },
    {
      "cell_type": "code",
      "metadata": {
        "id": "tHazE2qkO-Rp"
      },
      "source": [
        "age = 25\n",
        "var0 = 'I am age ' + str(age)\n",
        "var1 = 'I am age {0}'.format(age)\n",
        "print(var0)\n",
        "print(var1)"
      ],
      "execution_count": null,
      "outputs": []
    },
    {
      "cell_type": "markdown",
      "metadata": {
        "id": "c0uXdMhg-7tP"
      },
      "source": [
        "format()을 이용하면 굳이 str()을 사용하지 않고 숫자형과 문자형을 합칠 수 있습니다."
      ]
    },
    {
      "cell_type": "markdown",
      "metadata": {
        "id": "ccEKyK4-PL-J"
      },
      "source": [
        "##리스트"
      ]
    },
    {
      "cell_type": "markdown",
      "metadata": {
        "id": "pVxXz9CxPO1E"
      },
      "source": [
        "리스트 생성"
      ]
    },
    {
      "cell_type": "code",
      "metadata": {
        "id": "4-IL_mWXPP7x"
      },
      "source": [
        "var = list([1, 2, 3, 4, 5])\n",
        "print(var)\n",
        "var = [1, 2, 3, 4, 5]\n",
        "print(var)"
      ],
      "execution_count": null,
      "outputs": []
    },
    {
      "cell_type": "markdown",
      "metadata": {
        "id": "ruiZGP-0PheK"
      },
      "source": [
        "###인덱싱, 슬라이싱하기"
      ]
    },
    {
      "cell_type": "markdown",
      "metadata": {
        "id": "wNCanmplPll5"
      },
      "source": [
        "인덱싱 슬라이싱하기"
      ]
    },
    {
      "cell_type": "code",
      "metadata": {
        "id": "Xb-ATQ9xPlJx"
      },
      "source": [
        "var = [1, 2, '3', 4, 5, 6]\n",
        "print(var[0])\n",
        "print(var[1])\n",
        "print(var[0:4])"
      ],
      "execution_count": null,
      "outputs": []
    },
    {
      "cell_type": "markdown",
      "metadata": {
        "id": "4FxTaBlHPx0E"
      },
      "source": [
        "###문자열 split 살펴보기"
      ]
    },
    {
      "cell_type": "markdown",
      "metadata": {
        "id": "7W9v02MoP0pZ"
      },
      "source": [
        "split하여 리스트 형태로 변환하기"
      ]
    },
    {
      "cell_type": "code",
      "metadata": {
        "id": "kE9vTUOJP3ve"
      },
      "source": [
        "var = 'hello world'\n",
        "print(var.split())"
      ],
      "execution_count": null,
      "outputs": []
    },
    {
      "cell_type": "markdown",
      "metadata": {
        "id": "MhhBckHuP6Zs"
      },
      "source": [
        "###join을 이용하여 리스트를 문자열로 만들기"
      ]
    },
    {
      "cell_type": "markdown",
      "metadata": {
        "id": "b5TBH3mYP9IM"
      },
      "source": [
        "특정 문자열을 포함시켜 리승트를 문자열로 만들기"
      ]
    },
    {
      "cell_type": "code",
      "metadata": {
        "id": "pgH0lnqiQMU8"
      },
      "source": [
        "a = ['1', '2', '3', '4', '5']\n",
        "b = '.'.join(a)\n",
        "print(b)"
      ],
      "execution_count": null,
      "outputs": []
    },
    {
      "cell_type": "markdown",
      "metadata": {
        "id": "R3nkJChgQJis"
      },
      "source": [
        "숫자형이 포함된 리스트 join하기"
      ]
    },
    {
      "cell_type": "code",
      "metadata": {
        "id": "03a32RnXQXoQ"
      },
      "source": [
        "a = [1, '2', 3, '4', '5']\n",
        "b = '.'.join(a)\n",
        "print(b)"
      ],
      "execution_count": null,
      "outputs": []
    },
    {
      "cell_type": "markdown",
      "metadata": {
        "id": "PQf35BUtb2Qc"
      },
      "source": [
        "###중첩된 리스트"
      ]
    },
    {
      "cell_type": "markdown",
      "metadata": {
        "id": "sTNiumDPb56E"
      },
      "source": [
        "중첩된 리스트 생성"
      ]
    },
    {
      "cell_type": "code",
      "metadata": {
        "id": "d-wOGRnxb4eK",
        "colab": {
          "base_uri": "https://localhost:8080/"
        },
        "outputId": "107a2e08-fa16-405a-d0f7-bdfe256a44d1"
      },
      "source": [
        "a = [1, 2, 3, 4, [5, 6, 7]]\n",
        "print(a)\n",
        "print(a[4])\n",
        "print(a[4][0])\n",
        "print(a[4][1])\n",
        "print(a[4][2])\n",
        "print(a[-1][0])\n",
        "print(a[-1][1])\n",
        "print(a[-1][2])"
      ],
      "execution_count": null,
      "outputs": [
        {
          "output_type": "stream",
          "name": "stdout",
          "text": [
            "[1, 2, 3, 4, [5, 6, 7]]\n",
            "[5, 6, 7]\n",
            "5\n",
            "6\n",
            "7\n",
            "5\n",
            "6\n",
            "7\n"
          ]
        }
      ]
    },
    {
      "cell_type": "markdown",
      "metadata": {
        "id": "jN_g0eaRcZHV"
      },
      "source": [
        "### 리스트 연산"
      ]
    },
    {
      "cell_type": "markdown",
      "metadata": {
        "id": "ZCnv2RVKb5W6"
      },
      "source": [
        "+, *연산하기"
      ]
    },
    {
      "cell_type": "code",
      "metadata": {
        "id": "MG3ytPtYccfr",
        "colab": {
          "base_uri": "https://localhost:8080/"
        },
        "outputId": "88b79bf4-dbe8-4f5e-932a-d70a466c3d1e"
      },
      "source": [
        "var1 = [1, 2, 3, 4, 5]\n",
        "var2 = [6, 7, 8, 9, 10]\n",
        "num = 3\n",
        "print(var1 * 3)\n",
        "print(var1 + var2)"
      ],
      "execution_count": null,
      "outputs": [
        {
          "output_type": "stream",
          "name": "stdout",
          "text": [
            "[1, 2, 3, 4, 5, 1, 2, 3, 4, 5, 1, 2, 3, 4, 5]\n",
            "[1, 2, 3, 4, 5, 6, 7, 8, 9, 10]\n"
          ]
        }
      ]
    },
    {
      "cell_type": "markdown",
      "metadata": {
        "id": "jqFcRErwcoHh"
      },
      "source": [
        "### 리스트 수정, 삭제"
      ]
    },
    {
      "cell_type": "markdown",
      "metadata": {
        "id": "pp1xFWFscrPw"
      },
      "source": [
        "인덱싱을 이용하여 리스트 수정하기"
      ]
    },
    {
      "cell_type": "code",
      "metadata": {
        "id": "7Cj9xx2Ycq8a"
      },
      "source": [
        "var = [1, 2, 3, 4, 5]\n",
        "print(var)\n",
        "var[2] = 10\n",
        "print(var)\n",
        "var[3] = [11, 22, 33]\n",
        "print(var)"
      ],
      "execution_count": null,
      "outputs": []
    },
    {
      "cell_type": "markdown",
      "metadata": {
        "id": "xPjwzR0Uc3nQ"
      },
      "source": [
        "슬라이싱을 이용하여 리스트 수정"
      ]
    },
    {
      "cell_type": "code",
      "metadata": {
        "id": "_PrfavQ9c6IU"
      },
      "source": [
        "var1 = [1, 2, 3, 4, 5]\n",
        "var2 = [1, 2, 3, 4, 5]\n",
        "print(var1)\n",
        "var1[2:4] = [0, -1]\n",
        "print(var1)\n",
        "var2[2:4] = [0, -1, -2]\n",
        "print(var2)"
      ],
      "execution_count": null,
      "outputs": []
    },
    {
      "cell_type": "markdown",
      "metadata": {
        "id": "t3V9y_s9dFCg"
      },
      "source": [
        "리스트 요소 삭제"
      ]
    },
    {
      "cell_type": "code",
      "metadata": {
        "id": "ih2QqO1edFQM"
      },
      "source": [
        "var1 = [1, 2, 3, 4, 5]\n",
        "var2 = [1, 2, 3, 4, 5]\n",
        "del var1[1]\n",
        "var2[0:3] = [ ]\n",
        "print(var1)\n",
        "print(var2)"
      ],
      "execution_count": null,
      "outputs": []
    },
    {
      "cell_type": "markdown",
      "metadata": {
        "id": "tAtLdzH-dFG-"
      },
      "source": [
        "###리스트의 다양한 함수"
      ]
    },
    {
      "cell_type": "markdown",
      "metadata": {
        "id": "kvS1q_w3dTrL"
      },
      "source": [
        "리스트 요소 추가하기"
      ]
    },
    {
      "cell_type": "code",
      "metadata": {
        "id": "UeYS_O_CdTyZ"
      },
      "source": [
        "var = [1, 2, 3, 4, 5]\n",
        "var.append(10)\n",
        "print(var)\n",
        "var.append(20)\n",
        "print(var)"
      ],
      "execution_count": null,
      "outputs": []
    },
    {
      "cell_type": "markdown",
      "metadata": {
        "id": "mpcbnhjEROLU"
      },
      "source": [
        "append()를 이용하면 마지막 요소 뒤에 추가할 수 있습니다."
      ]
    },
    {
      "cell_type": "markdown",
      "metadata": {
        "id": "EscmDAjrdT6C"
      },
      "source": [
        "리스트 요소 제거하기 -1"
      ]
    },
    {
      "cell_type": "code",
      "metadata": {
        "id": "1GMcFJ9mdUAG"
      },
      "source": [
        "var = [1, 2, 3, 4, 5]\n",
        "print(var.pop())\n",
        "print(var)"
      ],
      "execution_count": null,
      "outputs": []
    },
    {
      "cell_type": "markdown",
      "metadata": {
        "id": "yjMVaF5zRU_v"
      },
      "source": [
        "pop() 함수를 이용하면 마지막 요소를 가져오면서(반환) 리스트에서 제거해줍니다. 만약 마지막 요소가 아닌 특정 값을 제거하고 싶다면 pop()이 아닌 remove()를 이용하면 됩니다."
      ]
    },
    {
      "cell_type": "markdown",
      "metadata": {
        "id": "2VEWa2I_dxwK"
      },
      "source": [
        "리스트 요소 제거하기 -2"
      ]
    },
    {
      "cell_type": "code",
      "metadata": {
        "id": "HFy2Q_BXdzGi"
      },
      "source": [
        "var = [1, 2, 3, 4, 5, 1, 2, 3, 4, 5]\n",
        "print(var.remove(4))\n",
        "print(var)"
      ],
      "execution_count": null,
      "outputs": []
    },
    {
      "cell_type": "markdown",
      "metadata": {
        "id": "F79ks1_ud55q"
      },
      "source": [
        "리스트 정렬 -1"
      ]
    },
    {
      "cell_type": "code",
      "metadata": {
        "id": "JPxkCDOMd7kv"
      },
      "source": [
        "var = [3, 5, 1, 2, 3, 4, 12, 13]\n",
        "var.sort()\n",
        "print(var)\n",
        "var.sort(reverse=True)\n",
        "print(var)"
      ],
      "execution_count": null,
      "outputs": []
    },
    {
      "cell_type": "markdown",
      "metadata": {
        "id": "Rx4skQibR6Pj"
      },
      "source": [
        "sort() 함수에 reverse=True 오볏ㄴ 인자를 같이 넘겨주면 내림차순으로 정렬할 수 있습니다."
      ]
    },
    {
      "cell_type": "markdown",
      "metadata": {
        "id": "fLVZbyVUeHZB"
      },
      "source": [
        "리스트 정렬 -2"
      ]
    },
    {
      "cell_type": "code",
      "metadata": {
        "id": "jH0mobeKeKIK"
      },
      "source": [
        "var = ['a', 'd', 'c', 'b']\n",
        "var.sort()\n",
        "print(var)\n",
        "var.sort(reverse=True)\n",
        "print(var)"
      ],
      "execution_count": null,
      "outputs": []
    },
    {
      "cell_type": "markdown",
      "metadata": {
        "id": "UXiJB9yNSEjG"
      },
      "source": [
        "대문자와 소문자가 섞여 있다면, 대문자가 먼저 정렬됩니다."
      ]
    },
    {
      "cell_type": "markdown",
      "metadata": {
        "id": "I2Tc6bhdeU6t"
      },
      "source": [
        "리스트 정렬 -3"
      ]
    },
    {
      "cell_type": "code",
      "metadata": {
        "id": "-D5BfiTpeWOl"
      },
      "source": [
        "var = ['A', 'd', 'C', 'b']\n",
        "var.sort()\n",
        "print(var)\n",
        "var.sort(reverse=True)\n",
        "print(var)"
      ],
      "execution_count": null,
      "outputs": []
    },
    {
      "cell_type": "markdown",
      "metadata": {
        "id": "8p5Xn6h3ed34"
      },
      "source": [
        "리스트 정렬 -4"
      ]
    },
    {
      "cell_type": "code",
      "metadata": {
        "id": "Psj6slmhefmR"
      },
      "source": [
        "a = [75, 'a', 'A', 98, 100]\n",
        "print(a.sort())"
      ],
      "execution_count": null,
      "outputs": []
    },
    {
      "cell_type": "markdown",
      "metadata": {
        "id": "Jiz97koofE4s"
      },
      "source": [
        "리스트 길이"
      ]
    },
    {
      "cell_type": "code",
      "metadata": {
        "id": "j6P4cN7WfGNj"
      },
      "source": [
        "var = [1, 2, 3, 4, 5, 6, 7]\n",
        "print(len(var))"
      ],
      "execution_count": null,
      "outputs": []
    },
    {
      "cell_type": "markdown",
      "metadata": {
        "id": "Rk41GoGEfL0Y"
      },
      "source": [
        "##딕셔너리"
      ]
    },
    {
      "cell_type": "markdown",
      "metadata": {
        "id": "gN3ofSzxfQ8S"
      },
      "source": [
        "딕셔너리의 생성 및 사용 -1"
      ]
    },
    {
      "cell_type": "code",
      "metadata": {
        "id": "40s-xMaWfeoC"
      },
      "source": [
        "var1 = dict({'key1': 'value1', 'key2', 'value2'})\n",
        "var2 = {'key1': 'value1', 'key2': 'value2'}\n",
        "print(var1)\n",
        "print(var2)\n",
        "print(var1['key1'])\n",
        "print(var2['key2'])"
      ],
      "execution_count": null,
      "outputs": []
    },
    {
      "cell_type": "markdown",
      "metadata": {
        "id": "o0hxtHDxgnkz"
      },
      "source": [
        "딕셔너리 생성 및 사용 -2"
      ]
    },
    {
      "cell_type": "code",
      "metadata": {
        "id": "QnqKjIWugpGk"
      },
      "source": [
        "var = {'key1': 'value1'}\n",
        "print(var['key2'])"
      ],
      "execution_count": null,
      "outputs": []
    },
    {
      "cell_type": "markdown",
      "metadata": {
        "id": "qPU7NuQIgwhL"
      },
      "source": [
        "딕셔너리 생성 및 사용 -3"
      ]
    },
    {
      "cell_type": "code",
      "metadata": {
        "id": "f2C76FC_gyJ4"
      },
      "source": [
        "var = {'key1': 'value1'}\n",
        "print(var.get('key1'))\n",
        "print(var.get('key1', 'default value'))\n",
        "print(var.get('key2'))\n",
        "print(var.get('key2', 'default value'))"
      ],
      "execution_count": null,
      "outputs": []
    },
    {
      "cell_type": "markdown",
      "metadata": {
        "id": "64tByH_thBz6"
      },
      "source": [
        "###키(key) - 값(value) 생성"
      ]
    },
    {
      "cell_type": "markdown",
      "metadata": {
        "id": "AjGBRKEmhFib"
      },
      "source": [
        "키 - 값 추가 -1"
      ]
    },
    {
      "cell_type": "code",
      "metadata": {
        "id": "52JVTP_uhFra"
      },
      "source": [
        "var = {}\n",
        "print(var)\n",
        "var['key1'] = 10\n",
        "print(var)\n",
        "var['key1'] = 20\n",
        "var['key2'] = 30\n",
        "print(var)"
      ],
      "execution_count": null,
      "outputs": []
    },
    {
      "cell_type": "markdown",
      "metadata": {
        "id": "6zktNrlMhllN"
      },
      "source": [
        "키 - 값 추가 -2"
      ]
    },
    {
      "cell_type": "code",
      "metadata": {
        "id": "0V4ZkVn6hn5P"
      },
      "source": [
        "var = {}\n",
        "print(var)\n",
        "var.setdefault('key1', 10)\n",
        "print(var)\n",
        "var.setdefault('key1', 20)\n",
        "var.setdefault('key2', 30)\n",
        "print(var)"
      ],
      "execution_count": null,
      "outputs": []
    },
    {
      "cell_type": "markdown",
      "metadata": {
        "id": "99Q68gKAWoWT"
      },
      "source": [
        "키가 없을 때는 키를 생성해서 값을 넣어주고, 키가 존재할 때는 어떤 작업도 하지 않는 경우가 있습니다.이때는 **setdefault()** 함수를 이용하면 됩니다."
      ]
    },
    {
      "cell_type": "markdown",
      "metadata": {
        "id": "wxIcmo4niEkt"
      },
      "source": [
        "###key, value, key-value 쌍 리스트 만들기"
      ]
    },
    {
      "cell_type": "markdown",
      "metadata": {
        "id": "maNkbR6aiJum"
      },
      "source": [
        "key 리스트 만들기"
      ]
    },
    {
      "cell_type": "code",
      "metadata": {
        "id": "ri1F6iBViLln"
      },
      "source": [
        "var={'key1': 'value1', 'key2': 'value2', 'key3': 'value3'}\n",
        "print(var.keys())"
      ],
      "execution_count": null,
      "outputs": []
    },
    {
      "cell_type": "markdown",
      "metadata": {
        "id": "mkSJH36ziuj9"
      },
      "source": [
        "value 리스트 만들기"
      ]
    },
    {
      "cell_type": "code",
      "metadata": {
        "id": "g7ZaEwReiwLx"
      },
      "source": [
        "var = {'key1': 'value1', 'key2': 'value2', 'key3': 'value3'}\n",
        "print(var.values())"
      ],
      "execution_count": null,
      "outputs": []
    },
    {
      "cell_type": "markdown",
      "metadata": {
        "id": "-XPC5FhwjiXz"
      },
      "source": [
        "key-value 쌍으로 리스트 만들기"
      ]
    },
    {
      "cell_type": "code",
      "metadata": {
        "id": "oOm9CwjRjlg9"
      },
      "source": [
        "var = {'key1': 'value1', 'key2': 'value2', 'key3': 'value3'}\n",
        "print(var.items())"
      ],
      "execution_count": null,
      "outputs": []
    },
    {
      "cell_type": "markdown",
      "metadata": {
        "id": "qeMVdEjokAXG"
      },
      "source": [
        "딕셔너리 함수로 만든 리스트 인덱싱하기-1"
      ]
    },
    {
      "cell_type": "code",
      "metadata": {
        "id": "Lar6Ag91kDdw"
      },
      "source": [
        "var = {'key1': 'value1', 'key2': 'value2', 'key3': 'value3'}\n",
        "values"
      ],
      "execution_count": null,
      "outputs": []
    },
    {
      "cell_type": "markdown",
      "metadata": {
        "id": "uFgCpegdmrWQ"
      },
      "source": [
        "딕셔너리 함수로 만든 리스트 인덱싱하기 -2"
      ]
    },
    {
      "cell_type": "code",
      "metadata": {
        "id": "NKY1U7T8mvbR"
      },
      "source": [
        "var = {'key1': 'value1', 'key2': 'value2', 'key3': 'value3'}\n",
        "print('key' in var)\n",
        "print('hello in var')"
      ],
      "execution_count": null,
      "outputs": []
    },
    {
      "cell_type": "markdown",
      "metadata": {
        "id": "PNdMsozCpgKq"
      },
      "source": [
        "##튜플"
      ]
    },
    {
      "cell_type": "markdown",
      "metadata": {
        "id": "2tUlzhMxph06"
      },
      "source": [
        "튜플 생성 -1"
      ]
    },
    {
      "cell_type": "code",
      "metadata": {
        "id": "g12-kKXtpjOl"
      },
      "source": [
        "var1 = tuple((1,))\n",
        "var2 = tuple((1, 2, 3))\n",
        "var3 = tuple(1,)\n",
        "var4 = tuple((1, 2, 3))\n",
        "print(var1)\n",
        "print(var2)\n",
        "print(var3)\n",
        "print(var4)"
      ],
      "execution_count": null,
      "outputs": []
    },
    {
      "cell_type": "markdown",
      "metadata": {
        "id": "kf5WcN78rS9B"
      },
      "source": [
        "튜플 생성 -2"
      ]
    },
    {
      "cell_type": "code",
      "metadata": {
        "id": "JIyPT8sNrUSg"
      },
      "source": [
        "var1 = (1)\n",
        "print(var1)"
      ],
      "execution_count": null,
      "outputs": []
    },
    {
      "cell_type": "markdown",
      "metadata": {
        "id": "MRwIhgxxrXEr"
      },
      "source": [
        "###튜플 요소가 변경하거나 삭제한다면?"
      ]
    },
    {
      "cell_type": "markdown",
      "metadata": {
        "id": "ea98N3RerZzZ"
      },
      "source": [
        "튜플 요소 삭제 시"
      ]
    },
    {
      "cell_type": "code",
      "metadata": {
        "id": "tWmNsDNord0y"
      },
      "source": [
        "var = (1, 2, 3)\n",
        "print(var1)\n",
        "del var[0]"
      ],
      "execution_count": null,
      "outputs": []
    },
    {
      "cell_type": "markdown",
      "metadata": {
        "id": "MCYfVN9zrgq_"
      },
      "source": [
        "튜플 요소 수정 시"
      ]
    },
    {
      "cell_type": "code",
      "metadata": {
        "id": "pkCcV3JJrhpm"
      },
      "source": [
        "var1 = (1, 2, 3)\n",
        "print(var1)\n",
        "var1[0] = 10"
      ],
      "execution_count": null,
      "outputs": []
    },
    {
      "cell_type": "markdown",
      "metadata": {
        "id": "71FTejudrmIr"
      },
      "source": [
        "###튜플 요소 접근 및 연산"
      ]
    },
    {
      "cell_type": "markdown",
      "metadata": {
        "id": "rwWA1qVTrr6D"
      },
      "source": [
        "인덱싱"
      ]
    },
    {
      "cell_type": "code",
      "metadata": {
        "id": "5zNTUCG9ruN6"
      },
      "source": [
        "var1 = (1, 2, 3, 4, 5)\n",
        "print(var1[3])"
      ],
      "execution_count": null,
      "outputs": []
    },
    {
      "cell_type": "markdown",
      "metadata": {
        "id": "E2ZjZHxTrzzD"
      },
      "source": [
        "슬라이싱"
      ]
    },
    {
      "cell_type": "code",
      "metadata": {
        "id": "p4QDxYJOr0nl"
      },
      "source": [
        "var1 = (1, 2, 3, 4, 5)\n",
        "print(var1[2:])"
      ],
      "execution_count": null,
      "outputs": []
    },
    {
      "cell_type": "markdown",
      "metadata": {
        "id": "hHtJT8hyr4kj"
      },
      "source": [
        "+, * 연산"
      ]
    },
    {
      "cell_type": "code",
      "metadata": {
        "id": "4JbPjY49r8AR"
      },
      "source": [
        "var1 = (1, 2, 3, 4, 5)\n",
        "var2 = (11, 22, 33, 44, 55)\n",
        "print(var1)\n",
        "print(var2)\n",
        "print(var1 + var2)\n",
        "print(var1 * 3)\n",
        "print(var2 * 3)"
      ],
      "execution_count": null,
      "outputs": []
    },
    {
      "cell_type": "markdown",
      "metadata": {
        "id": "d-X1I2XgsPAQ"
      },
      "source": [
        "#연산자"
      ]
    },
    {
      "cell_type": "markdown",
      "metadata": {
        "id": "62Bs6V7ksQn9"
      },
      "source": [
        "##사칙연산자"
      ]
    },
    {
      "cell_type": "markdown",
      "metadata": {
        "id": "oR8a_M0nsWwf"
      },
      "source": [
        "사칙연산"
      ]
    },
    {
      "cell_type": "code",
      "metadata": {
        "id": "kJeNlfqEsYGu"
      },
      "source": [
        "var1 = 1\n",
        "var2 = 5\n",
        "var1 += var2\n",
        "print(var1)"
      ],
      "execution_count": null,
      "outputs": []
    },
    {
      "cell_type": "markdown",
      "metadata": {
        "id": "7xt8ibNNsTj1"
      },
      "source": [
        "##비교 연산자\n"
      ]
    },
    {
      "cell_type": "markdown",
      "metadata": {
        "id": "h9fRTJ-nsd9o"
      },
      "source": [
        "##논리(관계)연산자"
      ]
    },
    {
      "cell_type": "markdown",
      "metadata": {
        "id": "p4uFG0f7shS4"
      },
      "source": [
        "###AND 연산"
      ]
    },
    {
      "cell_type": "markdown",
      "metadata": {
        "id": "C8qv-_VfsjGu"
      },
      "source": [
        "AND 연산"
      ]
    },
    {
      "cell_type": "code",
      "metadata": {
        "id": "OT5zjL03sodM"
      },
      "source": [
        "print(False and False)\n",
        "print(False and True)\n",
        "print(True and False)\n",
        "print(True and True)\n",
        "print(1 < 2 and 2 > 1)\n",
        "print(1 > 2 and 2 > 1)"
      ],
      "execution_count": null,
      "outputs": []
    },
    {
      "cell_type": "markdown",
      "metadata": {
        "id": "pC4J1Ds3s59a"
      },
      "source": [
        "###OR 연산"
      ]
    },
    {
      "cell_type": "markdown",
      "metadata": {
        "id": "L8Udd3YLs7PT"
      },
      "source": [
        "OR 연산"
      ]
    },
    {
      "cell_type": "code",
      "metadata": {
        "id": "eN2DSuTJs8DY"
      },
      "source": [
        "print(False or False)\n",
        "print(False or True)\n",
        "print(True or False)\n",
        "print(True or True)\n",
        "print(1 < 2 or 2 > 1)\n",
        "print(1 > 2 or 2 > 1)"
      ],
      "execution_count": null,
      "outputs": []
    },
    {
      "cell_type": "markdown",
      "metadata": {
        "id": "VXRUYQL3tHaT"
      },
      "source": [
        "###NOT 연산"
      ]
    },
    {
      "cell_type": "markdown",
      "metadata": {
        "id": "HDPW_XmRtLYd"
      },
      "source": [
        "NOT 연산"
      ]
    },
    {
      "cell_type": "code",
      "metadata": {
        "colab": {
          "base_uri": "https://localhost:8080/"
        },
        "id": "XGtw41BHtNsI",
        "outputId": "f9b28e22-78df-4f08-d372-815bab7b21c2"
      },
      "source": [
        "print(not True)\n",
        "print(not False)\n",
        "print(not 1)\n",
        "print(not 2)\n",
        "print(not 0)\n",
        "print(not -1)\n",
        "print(not 1 < 2)\n",
        "print(not 1 > 2)"
      ],
      "execution_count": null,
      "outputs": [
        {
          "output_type": "stream",
          "name": "stdout",
          "text": [
            "False\n",
            "True\n",
            "False\n",
            "False\n",
            "True\n",
            "False\n",
            "False\n",
            "True\n"
          ]
        }
      ]
    },
    {
      "cell_type": "markdown",
      "metadata": {
        "id": "Q0iJhvLPteTA"
      },
      "source": [
        "#조건분기"
      ]
    },
    {
      "cell_type": "markdown",
      "metadata": {
        "id": "wjFLzc_Ptk5X"
      },
      "source": [
        "if문 사용"
      ]
    },
    {
      "cell_type": "code",
      "metadata": {
        "id": "kVXSeNJttTLS"
      },
      "source": [
        "condition_t = True\n",
        "condition_f = False\n",
        "\n",
        "if_condition_t:\n",
        "  print('hello')\n",
        "  print('world')\n",
        "if condition_f:\n",
        "  print('HELLO')\n",
        "  print('WORLD')\n",
        "\n",
        "print('last')"
      ],
      "execution_count": null,
      "outputs": []
    },
    {
      "cell_type": "markdown",
      "metadata": {
        "id": "qSYOwap5uO0A"
      },
      "source": [
        "##if~else를 이용한 조건분기"
      ]
    },
    {
      "cell_type": "markdown",
      "metadata": {
        "id": "qNKNJjQxuS3f"
      },
      "source": [
        "if~else 구조"
      ]
    },
    {
      "cell_type": "code",
      "metadata": {
        "id": "x7yNg1FKue8X"
      },
      "source": [
        "condition1 = True\n",
        "condition2 = True\n",
        "condition3 = True\n",
        "\n",
        "if condition1:\n",
        "  print('첫번째 조건')\n",
        "elif condition2:\n",
        "  print('두번째 조건')\n",
        "elif condition3:\n",
        "  print('세번째 조건')\n",
        "else:\n",
        "  print('네번째 조건')"
      ],
      "execution_count": null,
      "outputs": []
    },
    {
      "cell_type": "markdown",
      "metadata": {
        "id": "0s8_d5GPuruT"
      },
      "source": [
        "##포함 여부에 따른 조건분기"
      ]
    },
    {
      "cell_type": "markdown",
      "metadata": {
        "id": "1UlBuvrRur6M"
      },
      "source": [
        "in을 이용한 조건검사"
      ]
    },
    {
      "cell_type": "code",
      "metadata": {
        "id": "Enlof6WruxIc"
      },
      "source": [
        "if 'h' in 'hello world':\n",
        "  print('hello world에 h가 포함되어 있습니다.')\n",
        "if 1 in [11, 22, 33, 44, 55, 66]:\n",
        "  print([11, 22, 33, 44, 55, 66], '에 1이 포함됩니다.')"
      ],
      "execution_count": null,
      "outputs": []
    },
    {
      "cell_type": "markdown",
      "metadata": {
        "id": "k6rZ_HWzuWaX"
      },
      "source": [
        "#반복문"
      ]
    },
    {
      "cell_type": "markdown",
      "metadata": {
        "id": "esAUoU4-uexw"
      },
      "source": [
        "##while문을 이용한 반복문"
      ]
    },
    {
      "cell_type": "markdown",
      "metadata": {
        "id": "R5YrKv5lvK9Z"
      },
      "source": [
        "while문 사용"
      ]
    },
    {
      "cell_type": "code",
      "metadata": {
        "id": "BVG9-P-BvNem"
      },
      "source": [
        "count = 0\n",
        "while count < 5:\n",
        "  print('%d 번째'%(count))\n",
        "  count += 1"
      ],
      "execution_count": null,
      "outputs": []
    },
    {
      "cell_type": "markdown",
      "metadata": {
        "id": "gjDdsgONvObZ"
      },
      "source": [
        "##for 문을 이용한 반복문"
      ]
    },
    {
      "cell_type": "markdown",
      "metadata": {
        "id": "uyUniyK5vOKF"
      },
      "source": [
        "range()를 이용한 반복문"
      ]
    },
    {
      "cell_type": "code",
      "metadata": {
        "id": "P_vcF2QDvNkA"
      },
      "source": [
        "for i in range(0, 5):\n",
        "  print('%d번째'%( i))"
      ],
      "execution_count": null,
      "outputs": []
    },
    {
      "cell_type": "markdown",
      "metadata": {
        "id": "BDuhXXXlvwyD"
      },
      "source": [
        "문자열을 이용한 반복문"
      ]
    },
    {
      "cell_type": "code",
      "metadata": {
        "id": "su_dB4kHvyaG"
      },
      "source": [
        "for i in 'hello world':\n",
        "  print(i)"
      ],
      "execution_count": null,
      "outputs": []
    },
    {
      "cell_type": "markdown",
      "metadata": {
        "id": "ZuqrZVEWvyic"
      },
      "source": [
        "리스트를 이용한 반복문"
      ]
    },
    {
      "cell_type": "code",
      "metadata": {
        "id": "ajgtewzkvynu"
      },
      "source": [
        "for i in [11, 22, 33, 44, 55]:\n",
        "  print(i)"
      ],
      "execution_count": null,
      "outputs": []
    },
    {
      "cell_type": "markdown",
      "metadata": {
        "id": "MiNy5l4lwFPT"
      },
      "source": [
        "딕셔너리를 이용한 반복문"
      ]
    },
    {
      "cell_type": "code",
      "metadata": {
        "id": "iyYInRXewImI"
      },
      "source": [
        "var = {'key1': 'value1', 'key2': 'value2', 'key3': 'value3'}\n",
        "for key in var:\n",
        "  print(key)\n",
        "  print(var[key])"
      ],
      "execution_count": null,
      "outputs": []
    },
    {
      "cell_type": "markdown",
      "metadata": {
        "id": "QbGtOgoEwWPO"
      },
      "source": [
        "###for 문을 이용하여 간단한 프로그램 작성"
      ]
    },
    {
      "cell_type": "markdown",
      "metadata": {
        "id": "qpLelh1lwd0N"
      },
      "source": [
        "구구단 출력"
      ]
    },
    {
      "cell_type": "code",
      "metadata": {
        "id": "B5WvHpFfwgLn"
      },
      "source": [
        "for i in range(2, 5):\n",
        "  for j in range(2, 5):\n",
        "    print('%d * %d = %d'%(i, j, i*j))"
      ],
      "execution_count": null,
      "outputs": []
    },
    {
      "cell_type": "markdown",
      "metadata": {
        "id": "SKEV-BbEWq94"
      },
      "source": [
        "문자열 빈도수 측정"
      ]
    },
    {
      "cell_type": "code",
      "metadata": {
        "id": "C7_O3F3LWvIx"
      },
      "source": [
        "var = 'egoism, as a form of hedonism, is the doctirne which holds that we ought each of us to purse our own greates gappiness as our ultimate end. the doctrine will, of course, admit that sometimes the best means to the end will be to give pleasure to others; we shall, for instance, by so doing, procure for ourselves the pleasure of sympathy, of freedom from interference, and of self-esteem; and these pleasures, which we may procure by somethinig aiming directly at the happiness of other persons, may be greater than any we could otherwise get.'\n",
        "\n",
        "space_ps = var.split(' ')\n",
        "\n",
        "char_frequency = {}\n",
        "\n",
        "for char in space_ps:\n",
        "  char_frequency.setdefault(char, 0)\n",
        "  char_frequency[char] += 1\n",
        "print(char_frequency)"
      ],
      "execution_count": null,
      "outputs": []
    }
  ]
}